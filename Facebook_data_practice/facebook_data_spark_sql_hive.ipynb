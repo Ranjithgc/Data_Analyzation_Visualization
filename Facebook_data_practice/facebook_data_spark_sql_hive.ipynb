{
 "cells": [
  {
   "cell_type": "markdown",
   "metadata": {},
   "source": [
    "***@Author: Ranjith G C**\n",
    "<br>\n",
    "***@Date: 2021-09-29***\n",
    "<br>\n",
    "***@Last Modified by: Ranjith G C***\n",
    "<br>\n",
    "***@Last Modified time: 2021-09-29***\n",
    "<br>\n",
    "***@Title : Program Aim to practice on facebook dataset using spark sql operations.***"
   ]
  },
  {
   "cell_type": "code",
   "execution_count": 1,
   "metadata": {},
   "outputs": [],
   "source": [
    "from pyspark.sql import SparkSession\n",
    "spark = SparkSession.builder.master(\"local\").appName('facebook_data').getOrCreate()\n",
    "sc=spark.sparkContext\n",
    "from pyspark.sql import *\n",
    "from pyspark.sql.functions import col, max as max_, min as min_, unix_timestamp\n",
    "from loghandler import logger"
   ]
  },
  {
   "cell_type": "code",
   "execution_count": 2,
   "metadata": {},
   "outputs": [],
   "source": [
    "df = spark.read.format(\"csv\").option(\"header\", \"true\").load(\"hdfs://localhost:9000/datasets/*.csv\")\n",
    "df.createOrReplaceTempView(\"ranjith\")"
   ]
  },
  {
   "cell_type": "markdown",
   "metadata": {},
   "source": [
    "# Finding The Total Number Of Users in This Datasets"
   ]
  },
  {
   "cell_type": "code",
   "execution_count": 14,
   "metadata": {},
   "outputs": [
    {
     "name": "stdout",
     "output_type": "stream",
     "text": [
      "+----------+\n",
      "|total_user|\n",
      "+----------+\n",
      "|     99003|\n",
      "+----------+\n",
      "\n"
     ]
    }
   ],
   "source": [
    "total_users = spark.sql(\"select count(*) as total_user from ranjith\")\n",
    "total_users.show()"
   ]
  },
  {
   "cell_type": "markdown",
   "metadata": {},
   "source": [
    "# Finding The Total Number Of Facebook User Whose is Above 25"
   ]
  },
  {
   "cell_type": "code",
   "execution_count": 17,
   "metadata": {},
   "outputs": [
    {
     "name": "stdout",
     "output_type": "stream",
     "text": [
      "+-------------------+\n",
      "|user_above_25_years|\n",
      "+-------------------+\n",
      "|              56676|\n",
      "+-------------------+\n",
      "\n"
     ]
    }
   ],
   "source": [
    "users_above_25_years = spark.sql(\"select count(*) as user_above_25_years from ranjith where age > 25\")\n",
    "users_above_25_years.show()"
   ]
  },
  {
   "cell_type": "markdown",
   "metadata": {},
   "source": [
    "# Finding Which User Have More Friends Male or Female."
   ]
  },
  {
   "cell_type": "code",
   "execution_count": 16,
   "metadata": {},
   "outputs": [
    {
     "name": "stdout",
     "output_type": "stream",
     "text": [
      "+------+------------------+\n",
      "|gender|      friend_count|\n",
      "+------+------------------+\n",
      "|    NA|184.41142857142856|\n",
      "|female|241.96994087544095|\n",
      "|  male|165.03545941885477|\n",
      "+------+------------------+\n",
      "\n"
     ]
    }
   ],
   "source": [
    "more_friends = spark.sql(\"select gender,avg(friend_count) as friend_count from ranjith group by gender\")\n",
    "more_friends.show()"
   ]
  },
  {
   "cell_type": "markdown",
   "metadata": {},
   "source": [
    "# Who Received More Likes Between Young and Old People"
   ]
  },
  {
   "cell_type": "code",
   "execution_count": 18,
   "metadata": {},
   "outputs": [
    {
     "name": "stdout",
     "output_type": "stream",
     "text": [
      "+------------------+\n",
      "|young_people_likes|\n",
      "+------------------+\n",
      "| 200.2870508186264|\n",
      "+------------------+\n",
      "\n",
      "+------------------+\n",
      "|  old_people_likes|\n",
      "+------------------+\n",
      "|103.89021217994491|\n",
      "+------------------+\n",
      "\n"
     ]
    }
   ],
   "source": [
    "young_people = spark.sql(\"select avg(likes_received) as young_people_likes from ranjith where age>=13 and age <= 25\")\n",
    "old_people = spark.sql(\"select avg(likes_received) as old_people_likes from ranjith where age >= 35\")\n",
    "young_people.show()\n",
    "old_people.show()"
   ]
  },
  {
   "cell_type": "markdown",
   "metadata": {},
   "source": [
    "# Finding Out The Count Of Facebook User For Each BirthDay Month"
   ]
  },
  {
   "cell_type": "code",
   "execution_count": 19,
   "metadata": {},
   "outputs": [
    {
     "name": "stdout",
     "output_type": "stream",
     "text": [
      "+---------+--------------------+\n",
      "|dob_month|birthday_month_count|\n",
      "+---------+--------------------+\n",
      "|        7|                8021|\n",
      "|       11|                7205|\n",
      "|        3|                8110|\n",
      "|        8|                8266|\n",
      "|        5|                8271|\n",
      "|        6|                7607|\n",
      "|        9|                7939|\n",
      "|        1|               11772|\n",
      "|       10|                8476|\n",
      "|        4|                7810|\n",
      "|       12|                7894|\n",
      "|        2|                7632|\n",
      "+---------+--------------------+\n",
      "\n"
     ]
    }
   ],
   "source": [
    "user_birthday_month_count = spark.sql(\"select dob_month,count(*) as birthday_month_count from ranjith group by dob_month\")\n",
    "user_birthday_month_count.show()"
   ]
  },
  {
   "cell_type": "markdown",
   "metadata": {},
   "source": [
    "# Do Young People Use Mobile Or Computer For Browsing Facebook and Old People use mobile or computer for browsing facebook"
   ]
  },
  {
   "cell_type": "code",
   "execution_count": 20,
   "metadata": {},
   "outputs": [
    {
     "name": "stdout",
     "output_type": "stream",
     "text": [
      "************** Young Users *****************\n",
      "+-----------------+-----------------+\n",
      "|      mobile_uses|    computer_uses|\n",
      "+-----------------+-----------------+\n",
      "|119.8740283979493|80.41295154393177|\n",
      "+-----------------+-----------------+\n",
      "\n",
      "************** Old Users *****************\n",
      "+-----------------+------------------+\n",
      "|      mobile_uses|     computer_uses|\n",
      "+-----------------+------------------+\n",
      "|57.34956135876772|46.540625318779966|\n",
      "+-----------------+------------------+\n",
      "\n"
     ]
    }
   ],
   "source": [
    "print(\"************** Young Users *****************\")\n",
    "young_people_choice = spark.sql(\"select avg(mobile_likes_received) as mobile_uses,avg(www_likes_received) as computer_uses from ranjith where age >= 13 and age <= 25\")\n",
    "old_people_choice = spark.sql(\"select avg(mobile_likes_received) as mobile_uses,avg(www_likes_received) as computer_uses from ranjith where age>= 35\")\n",
    "young_people_choice.show()\n",
    "print(\"************** Old Users *****************\")\n",
    "old_people_choice.show()"
   ]
  },
  {
   "cell_type": "markdown",
   "metadata": {},
   "source": [
    "# Saving facebook data into hive table"
   ]
  },
  {
   "cell_type": "code",
   "execution_count": 4,
   "metadata": {},
   "outputs": [],
   "source": [
    "spark = SparkSession.builder.master(\"local\").appName('facebook_data').enableHiveSupport().getOrCreate()"
   ]
  },
  {
   "cell_type": "code",
   "execution_count": 5,
   "metadata": {},
   "outputs": [],
   "source": [
    "fb_data2 = df.select(\"userid\",\"age\",\"dob_day\",\"dob_year\",\"dob_month\",\"gender\",\"tenure\",\"friend_count\",\"friendships_initiated\",\"likes\",\"likes_received\",\"mobile_likes\",\"mobile_likes_received\",\"www_likes\",\"www_likes_received\")"
   ]
  },
  {
   "cell_type": "code",
   "execution_count": 7,
   "metadata": {},
   "outputs": [],
   "source": [
    "fb_data2.write.mode(\"overwrite\").saveAsTable(\"default.facebook_data2\")"
   ]
  },
  {
   "cell_type": "code",
   "execution_count": 9,
   "metadata": {},
   "outputs": [
    {
     "name": "stdout",
     "output_type": "stream",
     "text": [
      "+-------+---+-------+--------+---------+------+------+------------+---------------------+-----+--------------+------------+---------------------+---------+------------------+\n",
      "| userid|age|dob_day|dob_year|dob_month|gender|tenure|friend_count|friendships_initiated|likes|likes_received|mobile_likes|mobile_likes_received|www_likes|www_likes_received|\n",
      "+-------+---+-------+--------+---------+------+------+------------+---------------------+-----+--------------+------------+---------------------+---------+------------------+\n",
      "|2094382| 14|     19|    1999|       11|  male|   266|           0|                    0|    0|             0|           0|                    0|        0|                 0|\n",
      "|1192601| 14|      2|    1999|       11|female|     6|           0|                    0|    0|             0|           0|                    0|        0|                 0|\n",
      "|2083884| 14|     16|    1999|       11|  male|    13|           0|                    0|    0|             0|           0|                    0|        0|                 0|\n",
      "|1203168| 14|     25|    1999|       12|female|    93|           0|                    0|    0|             0|           0|                    0|        0|                 0|\n",
      "|1733186| 14|      4|    1999|       12|  male|    82|           0|                    0|    0|             0|           0|                    0|        0|                 0|\n",
      "|1524765| 14|      1|    1999|       12|  male|    15|           0|                    0|    0|             0|           0|                    0|        0|                 0|\n",
      "|1136133| 13|     14|    2000|        1|  male|    12|           0|                    0|    0|             0|           0|                    0|        0|                 0|\n",
      "|1680361| 13|      4|    2000|        1|female|     0|           0|                    0|    0|             0|           0|                    0|        0|                 0|\n",
      "|1365174| 13|      1|    2000|        1|  male|    81|           0|                    0|    0|             0|           0|                    0|        0|                 0|\n",
      "|1712567| 13|      2|    2000|        2|  male|   171|           0|                    0|    0|             0|           0|                    0|        0|                 0|\n",
      "|1612453| 13|     22|    2000|        2|  male|    98|           0|                    0|    0|             0|           0|                    0|        0|                 0|\n",
      "|2104073| 13|      1|    2000|        2|  male|    55|           0|                    0|    0|             0|           0|                    0|        0|                 0|\n",
      "|1918584| 13|      5|    2000|        3|  male|   106|           0|                    0|    0|             0|           0|                    0|        0|                 0|\n",
      "|1704433| 13|     21|    2000|        3|  male|    61|           0|                    0|    0|             0|           0|                    0|        0|                 0|\n",
      "|1932519| 13|     28|    2000|        3|female|     0|           0|                    0|    0|             0|           0|                    0|        0|                 0|\n",
      "|1751722| 13|      7|    2000|        4|female|    16|           0|                    0|    0|             0|           0|                    0|        0|                 0|\n",
      "|1470850| 13|     30|    2000|        5|female|    34|           0|                    0|    0|             0|           0|                    0|        0|                 0|\n",
      "|1001768| 13|     23|    2000|        5|female|    25|           0|                    0|    0|             0|           0|                    0|        0|                 0|\n",
      "|1537661| 13|     16|    2000|        5|female|     4|           0|                    0|    0|             0|           0|                    0|        0|                 0|\n",
      "|1020296| 13|     13|    2000|        8|  male|     9|           0|                    0|    0|             0|           0|                    0|        0|                 0|\n",
      "+-------+---+-------+--------+---------+------+------+------------+---------------------+-----+--------------+------------+---------------------+---------+------------------+\n",
      "only showing top 20 rows\n",
      "\n"
     ]
    }
   ],
   "source": [
    "spark.sql(\"select *from default.facebook_data2\").show()"
   ]
  }
 ],
 "metadata": {
  "interpreter": {
   "hash": "31f2aee4e71d21fbe5cf8b01ff0e069b9275f58929596ceb00d14d90e3e16cd6"
  },
  "kernelspec": {
   "display_name": "Python 3.6.9 64-bit",
   "name": "python3"
  },
  "language_info": {
   "name": "python",
   "version": ""
  },
  "orig_nbformat": 4
 },
 "nbformat": 4,
 "nbformat_minor": 2
}